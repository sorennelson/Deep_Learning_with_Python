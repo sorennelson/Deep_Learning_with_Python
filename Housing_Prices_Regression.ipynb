{
  "nbformat": 4,
  "nbformat_minor": 0,
  "metadata": {
    "colab": {
      "name": "Housing_Prices_Regression.ipynb",
      "version": "0.3.2",
      "provenance": [],
      "collapsed_sections": [],
      "include_colab_link": true
    },
    "kernelspec": {
      "name": "python3",
      "display_name": "Python 3"
    },
    "accelerator": "GPU"
  },
  "cells": [
    {
      "cell_type": "markdown",
      "metadata": {
        "id": "view-in-github",
        "colab_type": "text"
      },
      "source": [
        "<a href=\"https://colab.research.google.com/github/sorennelson/Deep_Learning_with_Python/blob/master/Housing_Prices_Regression.ipynb\" target=\"_parent\"><img src=\"https://colab.research.google.com/assets/colab-badge.svg\" alt=\"Open In Colab\"/></a>"
      ]
    },
    {
      "cell_type": "code",
      "metadata": {
        "id": "kR6iFL4UkuR-",
        "colab_type": "code",
        "outputId": "12924053-ad87-423d-83bc-623239997db7",
        "colab": {
          "base_uri": "https://localhost:8080/",
          "height": 273
        }
      },
      "source": [
        "!pip install numpy==1.16.1"
      ],
      "execution_count": 0,
      "outputs": [
        {
          "output_type": "stream",
          "text": [
            "Collecting numpy==1.16.1\n",
            "\u001b[?25l  Downloading https://files.pythonhosted.org/packages/f5/bf/4981bcbee43934f0adb8f764a1e70ab0ee5a448f6505bd04a87a2fda2a8b/numpy-1.16.1-cp36-cp36m-manylinux1_x86_64.whl (17.3MB)\n",
            "\u001b[K     |████████████████████████████████| 17.3MB 2.8MB/s \n",
            "\u001b[31mERROR: datascience 0.10.6 has requirement folium==0.2.1, but you'll have folium 0.8.3 which is incompatible.\u001b[0m\n",
            "\u001b[31mERROR: albumentations 0.1.12 has requirement imgaug<0.2.7,>=0.2.5, but you'll have imgaug 0.2.9 which is incompatible.\u001b[0m\n",
            "\u001b[?25hInstalling collected packages: numpy\n",
            "  Found existing installation: numpy 1.16.4\n",
            "    Uninstalling numpy-1.16.4:\n",
            "      Successfully uninstalled numpy-1.16.4\n",
            "Successfully installed numpy-1.16.1\n"
          ],
          "name": "stdout"
        },
        {
          "output_type": "display_data",
          "data": {
            "application/vnd.colab-display-data+json": {
              "pip_warning": {
                "packages": [
                  "numpy"
                ]
              }
            }
          },
          "metadata": {
            "tags": []
          }
        }
      ]
    },
    {
      "cell_type": "code",
      "metadata": {
        "id": "yZQEZFLvlkoN",
        "colab_type": "code",
        "outputId": "4c358696-09ef-4a41-84db-82e6cce89c9c",
        "colab": {
          "base_uri": "https://localhost:8080/",
          "height": 34
        }
      },
      "source": [
        "import numpy as np\n",
        "import tensorflow as tf\n",
        "\n",
        "import keras\n",
        "from keras.datasets import boston_housing\n",
        "from keras import models\n",
        "from keras import layers\n",
        "\n",
        "import matplotlib.pyplot as plt"
      ],
      "execution_count": 0,
      "outputs": [
        {
          "output_type": "stream",
          "text": [
            "Using TensorFlow backend.\n"
          ],
          "name": "stderr"
        }
      ]
    },
    {
      "cell_type": "markdown",
      "metadata": {
        "id": "uUoxOM17msTQ",
        "colab_type": "text"
      },
      "source": [
        "**Importing**"
      ]
    },
    {
      "cell_type": "code",
      "metadata": {
        "id": "kyJjrsZwlrDm",
        "colab_type": "code",
        "outputId": "61933589-33f8-4a29-b687-b889cfc5dd56",
        "colab": {
          "base_uri": "https://localhost:8080/",
          "height": 51
        }
      },
      "source": [
        "(train_data, train_targets), (test_data, test_targets) = boston_housing.load_data()"
      ],
      "execution_count": 0,
      "outputs": [
        {
          "output_type": "stream",
          "text": [
            "Downloading data from https://s3.amazonaws.com/keras-datasets/boston_housing.npz\n",
            "57344/57026 [==============================] - 0s 1us/step\n"
          ],
          "name": "stdout"
        }
      ]
    },
    {
      "cell_type": "code",
      "metadata": {
        "id": "x6wrWdaBl8XL",
        "colab_type": "code",
        "outputId": "561f0af0-3608-406f-9ba3-95c32a8e87e6",
        "colab": {
          "base_uri": "https://localhost:8080/",
          "height": 102
        }
      },
      "source": [
        "print(train_data.shape)\n",
        "print(test_data.shape)\n",
        "train_data[0]"
      ],
      "execution_count": 0,
      "outputs": [
        {
          "output_type": "stream",
          "text": [
            "(404, 13)\n",
            "(102, 13)\n"
          ],
          "name": "stdout"
        },
        {
          "output_type": "execute_result",
          "data": {
            "text/plain": [
              "array([  1.23247,   0.     ,   8.14   ,   0.     ,   0.538  ,   6.142  ,\n",
              "        91.7    ,   3.9769 ,   4.     , 307.     ,  21.     , 396.9    ,\n",
              "        18.72   ])"
            ]
          },
          "metadata": {
            "tags": []
          },
          "execution_count": 4
        }
      ]
    },
    {
      "cell_type": "markdown",
      "metadata": {
        "id": "j2FC9LxTmkpS",
        "colab_type": "text"
      },
      "source": [
        "**Normalization**"
      ]
    },
    {
      "cell_type": "code",
      "metadata": {
        "id": "9rKxqxx5mjoh",
        "colab_type": "code",
        "outputId": "9ae82a35-fe49-4584-cf0b-17aba47983a1",
        "colab": {
          "base_uri": "https://localhost:8080/",
          "height": 68
        }
      },
      "source": [
        "mean = train_data.mean(axis=0)\n",
        "train_data -= mean\n",
        "\n",
        "std_dev = train_data.std(axis=0)\n",
        "train_data /= std_dev\n",
        "\n",
        "test_data -= mean\n",
        "test_data /= std_dev\n",
        "\n",
        "train_data[0]"
      ],
      "execution_count": 0,
      "outputs": [
        {
          "output_type": "execute_result",
          "data": {
            "text/plain": [
              "array([-0.27224633, -0.48361547, -0.43576161, -0.25683275, -0.1652266 ,\n",
              "       -0.1764426 ,  0.81306188,  0.1166983 , -0.62624905, -0.59517003,\n",
              "        1.14850044,  0.44807713,  0.8252202 ])"
            ]
          },
          "metadata": {
            "tags": []
          },
          "execution_count": 5
        }
      ]
    },
    {
      "cell_type": "markdown",
      "metadata": {
        "id": "mI-rdlRHHn0H",
        "colab_type": "text"
      },
      "source": [
        "**Build and Train Model**"
      ]
    },
    {
      "cell_type": "code",
      "metadata": {
        "id": "mYwZ7lC2nkps",
        "colab_type": "code",
        "colab": {}
      },
      "source": [
        "def build_model():\n",
        "  model = models.Sequential()\n",
        "  model.add(layers.Dense(64, \n",
        "                         activation='relu', \n",
        "                         input_shape=(train_data.shape[1],)))\n",
        "  model.add(layers.Dense(1))\n",
        "  model.compile(optimizer='rmsprop', loss='mse', metrics=['mae'])\n",
        "  return model"
      ],
      "execution_count": 0,
      "outputs": []
    },
    {
      "cell_type": "code",
      "metadata": {
        "id": "L2SKfome7ges",
        "colab_type": "code",
        "colab": {}
      },
      "source": [
        "k = 4\n",
        "num_val_samples = len(train_data) // k # // - division with floor\n",
        "num_epochs = 100\n",
        "all_scores = []"
      ],
      "execution_count": 0,
      "outputs": []
    },
    {
      "cell_type": "code",
      "metadata": {
        "id": "xV_IOifU8GMa",
        "colab_type": "code",
        "outputId": "83a44a9b-33ad-4f5a-c760-7e8d9d1eda84",
        "colab": {
          "base_uri": "https://localhost:8080/",
          "height": 207
        }
      },
      "source": [
        "for i in range(k):\n",
        "  print(\"processing fold\", i)\n",
        "  \n",
        "  # Partition Data\n",
        "  val_data = train_data[i * num_val_samples: (i+1) * num_val_samples]\n",
        "  val_targets = train_targets[i * num_val_samples: (i+1) * num_val_samples]\n",
        "  \n",
        "  partial_train_data = np.concatenate(\n",
        "  [train_data[:i * num_val_samples],\n",
        "   train_data[(i+1) * num_val_samples:]],\n",
        "  axis=0)\n",
        "  \n",
        "  partial_train_targets = np.concatenate(\n",
        "  [train_targets[:i * num_val_samples],\n",
        "   train_targets[(i+1) * num_val_samples:]],\n",
        "  axis=0)\n",
        "  \n",
        "  # Run Model\n",
        "  model = build_model()\n",
        "  history = model.fit(partial_train_data, partial_train_targets,\n",
        "                     validation_data=(val_data, val_targets),\n",
        "                     epochs=num_epochs, batch_size=1, verbose=0)\n",
        "  # Evaluate Model\n",
        "  val_mse, val_mae = model.evaluate(val_data, val_targets, verbose=0)\n",
        "  all_scores.append(val_mae)"
      ],
      "execution_count": 0,
      "outputs": [
        {
          "output_type": "stream",
          "text": [
            "processing fold 0\n",
            "WARNING:tensorflow:From /usr/local/lib/python3.6/dist-packages/tensorflow/python/framework/op_def_library.py:263: colocate_with (from tensorflow.python.framework.ops) is deprecated and will be removed in a future version.\n",
            "Instructions for updating:\n",
            "Colocations handled automatically by placer.\n",
            "WARNING:tensorflow:From /usr/local/lib/python3.6/dist-packages/tensorflow/python/ops/math_ops.py:3066: to_int32 (from tensorflow.python.ops.math_ops) is deprecated and will be removed in a future version.\n",
            "Instructions for updating:\n",
            "Use tf.cast instead.\n",
            "processing fold 1\n",
            "processing fold 2\n",
            "processing fold 3\n"
          ],
          "name": "stdout"
        }
      ]
    },
    {
      "cell_type": "code",
      "metadata": {
        "id": "DnfeGXx2-MjS",
        "colab_type": "code",
        "outputId": "e3b24cb0-1b58-4849-c4cc-dd0113cb93b9",
        "colab": {
          "base_uri": "https://localhost:8080/",
          "height": 51
        }
      },
      "source": [
        "print(all_scores)\n",
        "print(np.mean(all_scores))"
      ],
      "execution_count": 0,
      "outputs": [
        {
          "output_type": "stream",
          "text": [
            "[1.8179170259154669, 2.3360615838872323, 2.6472588447060916, 2.3052040905055433]\n",
            "2.2766103862535836\n"
          ],
          "name": "stdout"
        }
      ]
    },
    {
      "cell_type": "markdown",
      "metadata": {
        "id": "CRFqlEZ6_gJp",
        "colab_type": "text"
      },
      "source": [
        "*Above with 100 epochs is off by an average of $2200 which isn't very good. Train below with 500 epochs.*"
      ]
    },
    {
      "cell_type": "code",
      "metadata": {
        "id": "_Yfxv7T1-5GQ",
        "colab_type": "code",
        "outputId": "1e2a3da3-eeff-4b3e-85c4-35cee4807b4e",
        "colab": {
          "base_uri": "https://localhost:8080/",
          "height": 85
        }
      },
      "source": [
        "num_epochs = 500\n",
        "all_mae_histories = []\n",
        "for i in range(k):\n",
        "  print(\"processing fold\", i)\n",
        "  \n",
        "  # Partition Data\n",
        "  val_data = train_data[i * num_val_samples: (i+1) * num_val_samples]\n",
        "  val_targets = train_targets[i * num_val_samples: (i+1) * num_val_samples]\n",
        "  \n",
        "  partial_train_data = np.concatenate(\n",
        "  [train_data[:i * num_val_samples],\n",
        "   train_data[(i+1) * num_val_samples:]],\n",
        "  axis=0)\n",
        "  \n",
        "  partial_train_targets = np.concatenate(\n",
        "  [train_targets[:i * num_val_samples],\n",
        "   train_targets[(i+1) * num_val_samples:]],\n",
        "  axis=0)\n",
        "  \n",
        "  # Run Model\n",
        "  model = build_model()\n",
        "  history = model.fit(partial_train_data, partial_train_targets,\n",
        "                     validation_data=(val_data, val_targets),\n",
        "                     epochs=num_epochs, batch_size=1, verbose=0)\n",
        "\n",
        "  mae_history = history.history['val_mean_absolute_error']\n",
        "  all_mae_histories.append(mae_history)"
      ],
      "execution_count": 0,
      "outputs": [
        {
          "output_type": "stream",
          "text": [
            "processing fold 0\n",
            "processing fold 1\n",
            "processing fold 2\n",
            "processing fold 3\n"
          ],
          "name": "stdout"
        }
      ]
    },
    {
      "cell_type": "code",
      "metadata": {
        "id": "xXFDyzM0_x1Z",
        "colab_type": "code",
        "outputId": "3813e36c-8429-4c0f-8663-6687f68539ab",
        "colab": {
          "base_uri": "https://localhost:8080/",
          "height": 8517
        }
      },
      "source": [
        "average_mae_history = [np.mean([x[i] for x in all_mae_histories]) for i in range(num_epochs)]\n",
        "average_mae_history"
      ],
      "execution_count": 0,
      "outputs": [
        {
          "output_type": "execute_result",
          "data": {
            "text/plain": [
              "[14.493802104846086,\n",
              " 5.880826636116103,\n",
              " 4.472431984278234,\n",
              " 3.8874567959568287,\n",
              " 3.6207769814104136,\n",
              " 3.4204076870833293,\n",
              " 3.335957797447054,\n",
              " 3.209675871499694,\n",
              " 3.131149876235735,\n",
              " 3.0618569402411433,\n",
              " 2.9615372348539903,\n",
              " 2.9392024786165445,\n",
              " 2.924724073693304,\n",
              " 2.833521553785494,\n",
              " 2.7877248525619507,\n",
              " 2.7095543169739225,\n",
              " 2.677402239034672,\n",
              " 2.6540950819997504,\n",
              " 2.682464335224416,\n",
              " 2.6197181385342434,\n",
              " 2.616664959652589,\n",
              " 2.5385080269067597,\n",
              " 2.491297791499903,\n",
              " 2.4984768204169696,\n",
              " 2.52947210321332,\n",
              " 2.4755680006329372,\n",
              " 2.4574910272466073,\n",
              " 2.486836893723743,\n",
              " 2.417226858658366,\n",
              " 2.4910202710935385,\n",
              " 2.407057860110066,\n",
              " 2.436298179154349,\n",
              " 2.432905317533134,\n",
              " 2.4351403642408918,\n",
              " 2.4219394107856376,\n",
              " 2.3630797827597894,\n",
              " 2.3628793376507145,\n",
              " 2.3566769916232273,\n",
              " 2.373367139608553,\n",
              " 2.406378203099317,\n",
              " 2.3225332734608415,\n",
              " 2.3989232955592694,\n",
              " 2.4133891669830474,\n",
              " 2.4231040761022284,\n",
              " 2.3207736180560423,\n",
              " 2.449535125553018,\n",
              " 2.3421053367085976,\n",
              " 2.340939481659691,\n",
              " 2.331503881086217,\n",
              " 2.306214994723254,\n",
              " 2.316886067390442,\n",
              " 2.3102354731890236,\n",
              " 2.3249720759911114,\n",
              " 2.344974095278447,\n",
              " 2.3239799808747694,\n",
              " 2.3314779749011048,\n",
              " 2.338683061080404,\n",
              " 2.3098823563887345,\n",
              " 2.274261926660443,\n",
              " 2.2923885772723964,\n",
              " 2.3000345961882336,\n",
              " 2.251109051232291,\n",
              " 2.371757711514388,\n",
              " 2.306523320698502,\n",
              " 2.2693763829693934,\n",
              " 2.229386320208559,\n",
              " 2.244800028234425,\n",
              " 2.240740609641122,\n",
              " 2.2863643629716175,\n",
              " 2.3759772494287774,\n",
              " 2.277259155075149,\n",
              " 2.239551443864803,\n",
              " 2.2661136990726582,\n",
              " 2.277572238799369,\n",
              " 2.266975370964201,\n",
              " 2.2868293346744952,\n",
              " 2.248595012296544,\n",
              " 2.2278196965113723,\n",
              " 2.298861077516386,\n",
              " 2.206174641552538,\n",
              " 2.2398340324364083,\n",
              " 2.261927801783722,\n",
              " 2.2660492906476013,\n",
              " 2.274862327197991,\n",
              " 2.246779359213196,\n",
              " 2.2181105306833095,\n",
              " 2.2489464377412705,\n",
              " 2.284416928149686,\n",
              " 2.2302745096754317,\n",
              " 2.2486834785725813,\n",
              " 2.223219296719768,\n",
              " 2.1963361171212528,\n",
              " 2.210782569233734,\n",
              " 2.1858942166413406,\n",
              " 2.2229253868065255,\n",
              " 2.2459570252069154,\n",
              " 2.264228078398374,\n",
              " 2.171230876799857,\n",
              " 2.1868535587103057,\n",
              " 2.2826239130284525,\n",
              " 2.2203677302539937,\n",
              " 2.235212958685242,\n",
              " 2.1958727813003085,\n",
              " 2.224836583184724,\n",
              " 2.197547700145457,\n",
              " 2.203310227630162,\n",
              " 2.2382431101090834,\n",
              " 2.265491786569652,\n",
              " 2.2761799073455355,\n",
              " 2.151068918775804,\n",
              " 2.1959098730937088,\n",
              " 2.222272973249454,\n",
              " 2.2281062225304025,\n",
              " 2.1887086476429856,\n",
              " 2.199106184562834,\n",
              " 2.2831547543554023,\n",
              " 2.3059376265742992,\n",
              " 2.2954797791962576,\n",
              " 2.2312016156640384,\n",
              " 2.2661794577494705,\n",
              " 2.1760584741535753,\n",
              " 2.209239826344027,\n",
              " 2.15621549068111,\n",
              " 2.2439043757939103,\n",
              " 2.205922690948637,\n",
              " 2.236677934627722,\n",
              " 2.2379982058364565,\n",
              " 2.2853710356325205,\n",
              " 2.200492206186351,\n",
              " 2.2020671969593164,\n",
              " 2.236805574728711,\n",
              " 2.2222850570584285,\n",
              " 2.2182536939583204,\n",
              " 2.2953848838806152,\n",
              " 2.1771705740749248,\n",
              " 2.195706562240525,\n",
              " 2.236077345243775,\n",
              " 2.1539261447321074,\n",
              " 2.2640477737577838,\n",
              " 2.220797120934666,\n",
              " 2.2068613366325303,\n",
              " 2.198092802916423,\n",
              " 2.2218617637558737,\n",
              " 2.2429063284751214,\n",
              " 2.282800829056466,\n",
              " 2.235288375675088,\n",
              " 2.2486207579622177,\n",
              " 2.2356345452884634,\n",
              " 2.2334793109704956,\n",
              " 2.3056647966403774,\n",
              " 2.2407154187117473,\n",
              " 2.243616544374145,\n",
              " 2.2759769529399305,\n",
              " 2.2903583887780066,\n",
              " 2.265605865138592,\n",
              " 2.188746938611021,\n",
              " 2.21547537746996,\n",
              " 2.3260527424292987,\n",
              " 2.239525077366593,\n",
              " 2.220427707870408,\n",
              " 2.2154889862136082,\n",
              " 2.237593111425343,\n",
              " 2.2569467808940624,\n",
              " 2.239803213884335,\n",
              " 2.2809499915283507,\n",
              " 2.23050058596205,\n",
              " 2.285770602745585,\n",
              " 2.2766804754143894,\n",
              " 2.2817575766308473,\n",
              " 2.2887767541526567,\n",
              " 2.24953567155517,\n",
              " 2.3541507366860266,\n",
              " 2.324715451438828,\n",
              " 2.272095514996217,\n",
              " 2.3311403505872974,\n",
              " 2.310512641868969,\n",
              " 2.3241259980909894,\n",
              " 2.243594405674698,\n",
              " 2.254804666679685,\n",
              " 2.244808600680663,\n",
              " 2.2990239197664923,\n",
              " 2.3304757930264617,\n",
              " 2.2533965240610705,\n",
              " 2.2592283050612645,\n",
              " 2.2521649941359416,\n",
              " 2.2946531878839624,\n",
              " 2.280443425225739,\n",
              " 2.2781805697053965,\n",
              " 2.2588717843046284,\n",
              " 2.2991260703247374,\n",
              " 2.2369218557187827,\n",
              " 2.290177796146657,\n",
              " 2.2161315526112473,\n",
              " 2.2637298626474815,\n",
              " 2.280475394560559,\n",
              " 2.3514591833152396,\n",
              " 2.2539377377765013,\n",
              " 2.2676312640161798,\n",
              " 2.3103014856281847,\n",
              " 2.2712949136696237,\n",
              " 2.225288960013059,\n",
              " 2.2918107568627537,\n",
              " 2.334624988017696,\n",
              " 2.265340469851352,\n",
              " 2.258837133350939,\n",
              " 2.2329182483182093,\n",
              " 2.3058810446522022,\n",
              " 2.270710297150187,\n",
              " 2.2949640137134213,\n",
              " 2.3024821930592605,\n",
              " 2.2556584294479674,\n",
              " 2.3046544235531647,\n",
              " 2.295397697108807,\n",
              " 2.2743390031380226,\n",
              " 2.2141782033561483,\n",
              " 2.2945219443576175,\n",
              " 2.299969461884829,\n",
              " 2.268978916772521,\n",
              " 2.2529975400112643,\n",
              " 2.3199843734797865,\n",
              " 2.282106105643924,\n",
              " 2.3261235409443923,\n",
              " 2.2455394846377987,\n",
              " 2.2640217353801915,\n",
              " 2.2990434264192485,\n",
              " 2.3137541572646336,\n",
              " 2.278090789766595,\n",
              " 2.3720888430529303,\n",
              " 2.3363224586637896,\n",
              " 2.360949217683018,\n",
              " 2.2791589675563397,\n",
              " 2.3233351365174397,\n",
              " 2.305123454273337,\n",
              " 2.316190273454874,\n",
              " 2.3362267312437,\n",
              " 2.3067895339267093,\n",
              " 2.3572800065031148,\n",
              " 2.278964840539611,\n",
              " 2.326481803809062,\n",
              " 2.338013538039557,\n",
              " 2.3561596020613567,\n",
              " 2.2730934643509366,\n",
              " 2.33405605519172,\n",
              " 2.3110456207011003,\n",
              " 2.3108887601606916,\n",
              " 2.3183448621542144,\n",
              " 2.2733360576157526,\n",
              " 2.2826012963115576,\n",
              " 2.3355815091935717,\n",
              " 2.3280428140470297,\n",
              " 2.2828333401443937,\n",
              " 2.2827568479103615,\n",
              " 2.3337799900829204,\n",
              " 2.352555224210909,\n",
              " 2.320434020297362,\n",
              " 2.334840125376635,\n",
              " 2.356174157397582,\n",
              " 2.3356517777584567,\n",
              " 2.348155385196799,\n",
              " 2.357840795328121,\n",
              " 2.3464873734087046,\n",
              " 2.3475826931471873,\n",
              " 2.351970110789384,\n",
              " 2.3341685781384456,\n",
              " 2.3126221895217896,\n",
              " 2.3513255544228127,\n",
              " 2.31103518929812,\n",
              " 2.3660502540002954,\n",
              " 2.3491501277036004,\n",
              " 2.3328022909636545,\n",
              " 2.3548253125483445,\n",
              " 2.379793653393736,\n",
              " 2.3482455345663698,\n",
              " 2.32899003217716,\n",
              " 2.3465821129260678,\n",
              " 2.3650164261902913,\n",
              " 2.357973592116101,\n",
              " 2.3742584651059446,\n",
              " 2.3678765296936035,\n",
              " 2.3412866061276727,\n",
              " 2.2906194630235728,\n",
              " 2.3447376867332084,\n",
              " 2.3619393381741967,\n",
              " 2.390688355606381,\n",
              " 2.319762985305031,\n",
              " 2.3600415687749883,\n",
              " 2.388915760682361,\n",
              " 2.356617296096122,\n",
              " 2.3264037842797762,\n",
              " 2.3349127934710814,\n",
              " 2.337565730113794,\n",
              " 2.304938227823465,\n",
              " 2.3247610106326566,\n",
              " 2.375269900454153,\n",
              " 2.3963271733557825,\n",
              " 2.332536182781257,\n",
              " 2.4361607993003163,\n",
              " 2.338782810928798,\n",
              " 2.3170188228682718,\n",
              " 2.3325795962078737,\n",
              " 2.384922782973488,\n",
              " 2.373717010611355,\n",
              " 2.3502346536900736,\n",
              " 2.3413920803825454,\n",
              " 2.3838248748590454,\n",
              " 2.3204267284657694,\n",
              " 2.3860984769197975,\n",
              " 2.3278884108703917,\n",
              " 2.377738140597202,\n",
              " 2.3383843273219496,\n",
              " 2.3558537912840887,\n",
              " 2.4396746512686853,\n",
              " 2.332913370415716,\n",
              " 2.3327059226460976,\n",
              " 2.317718959090733,\n",
              " 2.3383671517419344,\n",
              " 2.307242790071091,\n",
              " 2.3493958192296547,\n",
              " 2.3372777617803893,\n",
              " 2.3500293398847676,\n",
              " 2.4019851460315214,\n",
              " 2.3472599157012333,\n",
              " 2.3215307941531194,\n",
              " 2.410205027844646,\n",
              " 2.3680172733741234,\n",
              " 2.366193976732764,\n",
              " 2.338558001093345,\n",
              " 2.448771057742657,\n",
              " 2.3884589931752425,\n",
              " 2.406215028007432,\n",
              " 2.3667282113934505,\n",
              " 2.3670314857275176,\n",
              " 2.350840935612669,\n",
              " 2.365710101505317,\n",
              " 2.439735751340885,\n",
              " 2.3656677845681067,\n",
              " 2.426477436972136,\n",
              " 2.349439775589669,\n",
              " 2.3759485990694253,\n",
              " 2.3397855192127794,\n",
              " 2.3689258204828394,\n",
              " 2.3838237016507895,\n",
              " 2.3902834665657267,\n",
              " 2.3339314909264592,\n",
              " 2.4212502618827445,\n",
              " 2.3590849142263433,\n",
              " 2.424405419000305,\n",
              " 2.3825815408536704,\n",
              " 2.358991794066854,\n",
              " 2.3921282078960155,\n",
              " 2.4198141180642763,\n",
              " 2.3807798954519894,\n",
              " 2.3955122692750233,\n",
              " 2.409470047100936,\n",
              " 2.3448898355559544,\n",
              " 2.3698895827378377,\n",
              " 2.3780482039593234,\n",
              " 2.3973310607494693,\n",
              " 2.3756034928973357,\n",
              " 2.374210301012096,\n",
              " 2.436064595043069,\n",
              " 2.3750590404661573,\n",
              " 2.3969858660556302,\n",
              " 2.380948097398966,\n",
              " 2.3890328525316598,\n",
              " 2.3776060142139395,\n",
              " 2.3775341192094404,\n",
              " 2.4305711028599504,\n",
              " 2.389460612051558,\n",
              " 2.4215563453070006,\n",
              " 2.431861974225186,\n",
              " 2.326686405899501,\n",
              " 2.394589467804031,\n",
              " 2.4289609477071483,\n",
              " 2.3869170859308526,\n",
              " 2.431492581225858,\n",
              " 2.4068461715584935,\n",
              " 2.4579903442080657,\n",
              " 2.3732044295509267,\n",
              " 2.4005676602373027,\n",
              " 2.420823028772184,\n",
              " 2.4572333392530386,\n",
              " 2.4551236015735287,\n",
              " 2.4571925448899226,\n",
              " 2.4308303346728337,\n",
              " 2.459490047823085,\n",
              " 2.4423347782380507,\n",
              " 2.4343385507564737,\n",
              " 2.427409533226844,\n",
              " 2.5197869126159365,\n",
              " 2.4353731717213547,\n",
              " 2.3687509133083986,\n",
              " 2.4663655155956157,\n",
              " 2.510695063241638,\n",
              " 2.4709475064041593,\n",
              " 2.5079963797389873,\n",
              " 2.4138846975741997,\n",
              " 2.4666141885341983,\n",
              " 2.42650835820944,\n",
              " 2.471988046523368,\n",
              " 2.425486375789831,\n",
              " 2.4186034462239485,\n",
              " 2.4456467427829702,\n",
              " 2.4544264597467857,\n",
              " 2.414527514193318,\n",
              " 2.3790769565223466,\n",
              " 2.413589429147173,\n",
              " 2.4214086036870976,\n",
              " 2.447785467204481,\n",
              " 2.4108455806675524,\n",
              " 2.469249946056026,\n",
              " 2.4751235270264123,\n",
              " 2.397470062321956,\n",
              " 2.439072866250973,\n",
              " 2.466237169681209,\n",
              " 2.4193412738271283,\n",
              " 2.3790855006416245,\n",
              " 2.579108918067252,\n",
              " 2.4810511003626456,\n",
              " 2.446476137284005,\n",
              " 2.442906363175647,\n",
              " 2.4574329274715763,\n",
              " 2.446707252228614,\n",
              " 2.451650150931708,\n",
              " 2.4889428981459965,\n",
              " 2.452009553956514,\n",
              " 2.4629738295432366,\n",
              " 2.4229682270843202,\n",
              " 2.4371108288812167,\n",
              " 2.5247637918680024,\n",
              " 2.4462395316303365,\n",
              " 2.4469088882502947,\n",
              " 2.5015999751515907,\n",
              " 2.4109009032202238,\n",
              " 2.436721368591384,\n",
              " 2.4610016558429986,\n",
              " 2.4915271159445886,\n",
              " 2.496187426076077,\n",
              " 2.5139443307819933,\n",
              " 2.499924106172996,\n",
              " 2.505343261331615,\n",
              " 2.454523205757141,\n",
              " 2.516817857723425,\n",
              " 2.484137760530604,\n",
              " 2.5212831166711185,\n",
              " 2.4735272591656976,\n",
              " 2.512593180826395,\n",
              " 2.490187092582778,\n",
              " 2.4308475255966187,\n",
              " 2.5010207879661333,\n",
              " 2.4233483984918878,\n",
              " 2.4630259582311798,\n",
              " 2.571473152330606,\n",
              " 2.467846641446104,\n",
              " 2.4554457747110043,\n",
              " 2.548058311537941,\n",
              " 2.5643353273372838,\n",
              " 2.4905988733367166,\n",
              " 2.4850566800278013,\n",
              " 2.550964901943018,\n",
              " 2.4710219708999785,\n",
              " 2.6001317560082615,\n",
              " 2.5101131342425207,\n",
              " 2.5195358944411326,\n",
              " 2.4815430971655514,\n",
              " 2.4474573005544076,\n",
              " 2.5082940252700654,\n",
              " 2.5479082341241366,\n",
              " 2.473363223642406,\n",
              " 2.539916745506891,\n",
              " 2.464020565004632,\n",
              " 2.451259749950749,\n",
              " 2.5227928362270395,\n",
              " 2.4507802229116455,\n",
              " 2.473759804621781,\n",
              " 2.5465124337980063,\n",
              " 2.4782835658233946,\n",
              " 2.5312435697801043,\n",
              " 2.487078057657374,\n",
              " 2.5027981772281156,\n",
              " 2.4439006323861605,\n",
              " 2.520683748887317,\n",
              " 2.5274765821966794,\n",
              " 2.499355535696049,\n",
              " 2.499070160459764,\n",
              " 2.534827771753368,\n",
              " 2.5363142136299963,\n",
              " 2.5713390218149317,\n",
              " 2.5107047227349613,\n",
              " 2.523993981946813,\n",
              " 2.5763853977222255,\n",
              " 2.511645018464268,\n",
              " 2.563778211574743,\n",
              " 2.5259811276256445,\n",
              " 2.5680408619418005,\n",
              " 2.483276976217138,\n",
              " 2.4780548303434164,\n",
              " 2.5007527677139434,\n",
              " 2.5247650229104677,\n",
              " 2.5093380507856313]"
            ]
          },
          "metadata": {
            "tags": []
          },
          "execution_count": 16
        }
      ]
    },
    {
      "cell_type": "code",
      "metadata": {
        "id": "1YbfhHnDrmki",
        "colab_type": "code",
        "colab": {}
      },
      "source": [
        ""
      ],
      "execution_count": 0,
      "outputs": []
    },
    {
      "cell_type": "markdown",
      "metadata": {
        "id": "Wx2FEYKXHeFb",
        "colab_type": "text"
      },
      "source": [
        "**Plotting**"
      ]
    },
    {
      "cell_type": "code",
      "metadata": {
        "id": "NrmK_kTzHb1z",
        "colab_type": "code",
        "outputId": "7a385be7-803e-48b5-a79a-c34dd154f40a",
        "colab": {
          "base_uri": "https://localhost:8080/",
          "height": 283
        }
      },
      "source": [
        "plt.plot(range(1, len(average_mae_history) + 1), average_mae_history)\n",
        "plt.xlabel('Epochs')\n",
        "plt.ylabel('Validation MAE')\n",
        "plt.show()"
      ],
      "execution_count": 0,
      "outputs": [
        {
          "output_type": "display_data",
          "data": {
            "image/png": "[encoded data removed]",
            "text/plain": [
              "<Figure size 432x288 with 1 Axes>"
            ]
          },
          "metadata": {
            "tags": []
          }
        }
      ]
    },
    {
      "cell_type": "code",
      "metadata": {
        "id": "eH4aLRWSJTZS",
        "colab_type": "code",
        "colab": {}
      },
      "source": [
        "# Clean up the plotting by removing first 10 epochs and replacing each point with exponential average of previous points (for smooth curve)\n",
        "def smooth_curve(points, factor=0.9):\n",
        "  smoothed_points = []\n",
        "  for point in points:\n",
        "    if smoothed_points:\n",
        "      previous = smoothed_points[-1]\n",
        "      smoothed_points.append(previous * factor + point * (1-factor))\n",
        "    else:\n",
        "      smoothed_points.append(point)\n",
        "  return smoothed_points"
      ],
      "execution_count": 0,
      "outputs": []
    },
    {
      "cell_type": "code",
      "metadata": {
        "id": "SeOGo8DnK1ta",
        "colab_type": "code",
        "outputId": "fae4d5d6-c951-4178-ba9f-13b51b5f114f",
        "colab": {
          "base_uri": "https://localhost:8080/",
          "height": 284
        }
      },
      "source": [
        "smooth_mae_history = smooth_curve(average_mae_history[10:])\n",
        "\n",
        "plt.plot(range(1, len(smooth_mae_history) + 1), smooth_mae_history)\n",
        "plt.xlabel('Epochs')\n",
        "plt.ylabel('Validation MAE')\n",
        "plt.show()"
      ],
      "execution_count": 0,
      "outputs": [
        {
          "output_type": "display_data",
          "data": {
            "image/png": "[encoded data removed]",
            "text/plain": [
              "<Figure size 432x288 with 1 Axes>"
            ]
          },
          "metadata": {
            "tags": []
          }
        }
      ]
    },
    {
      "cell_type": "markdown",
      "metadata": {
        "id": "lV_LQljA0JsO",
        "colab_type": "text"
      },
      "source": [
        "*Starts to overfit around 100 epochs.*"
      ]
    },
    {
      "cell_type": "markdown",
      "metadata": {
        "id": "bBEq7xGbLT33",
        "colab_type": "text"
      },
      "source": [
        "**Final Model**"
      ]
    },
    {
      "cell_type": "code",
      "metadata": {
        "id": "0Mlvtja5LTOW",
        "colab_type": "code",
        "outputId": "3fdc5865-5169-4eaf-a50a-cd993c856d8f",
        "colab": {
          "base_uri": "https://localhost:8080/",
          "height": 34
        }
      },
      "source": [
        "# Run Model\n",
        "model = build_model()\n",
        "history = model.fit(train_data, train_targets,\n",
        "                     epochs=80, batch_size=1, verbose=0)\n",
        "\n",
        "mae_history = history.history['mean_absolute_error']\n",
        "\n",
        "# Evaluate Model\n",
        "test_mse, test_mae = model.evaluate(test_data, test_targets, verbose=0)\n",
        "print(test_mae)"
      ],
      "execution_count": 0,
      "outputs": [
        {
          "output_type": "stream",
          "text": [
            "2.5738121948990167\n"
          ],
          "name": "stdout"
        }
      ]
    }
  ]
}